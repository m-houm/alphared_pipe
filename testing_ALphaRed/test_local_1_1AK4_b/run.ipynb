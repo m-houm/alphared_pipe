{
 "cells": [
  {
   "cell_type": "code",
   "execution_count": 4,
   "metadata": {},
   "outputs": [],
   "source": [
    "import os\n",
    "## paths\n",
    "\n",
    "extract_script_path= \"/home/mhoum/rosetta/source/bin/extract_pdbs.mpi.linuxgccdebug\"\n",
    "\n",
    "global_docking_scores_path= \"/home/mhoum/drive1/alphared/testing_ALphaRed/test_local_1_1AK4_b/global_output/scores.fsc\"\n",
    "\n",
    "global_docking_decoys_path= \"/home/mhoum/drive1/alphared/testing_ALphaRed/test_local_1_1AK4_b/global_output/decoys.out\"\n",
    "\n",
    "global_docking_traj_path= \"/home/mhoum/drive1/alphared/testing_ALphaRed/test_local_1_1AK4_b/global_output/decoys_1AK4_b_0001_traj.out\"\n",
    "\n",
    "extracted_pdbs_directory= \"/home/mhoum/drive1/alphared/testing_ALphaRed/test_local_1_1AK4_b/global_output/extracted_pdbs/\"\n"
   ]
  },
  {
   "cell_type": "code",
   "execution_count": null,
   "metadata": {},
   "outputs": [],
   "source": [
    "\n",
    "### scripts\n",
    "\n",
    "# sort the global docking scores\n",
    "sort_scores_script_cmd= f\"sort -nk2 {global_docking_scores_path} | head -n 1\"\n",
    "print(sort_scores_script_cmd)\n",
    "#os.system(sort_scores_script_cmd)\n",
    "\n",
    "\n",
    "\n",
    "extract_pdb_lowest_energy_cmd= f\"{extract_script_path} -in:file:silent {global_docking_traj_path} -in:file:silent_struct_type binary -in:file:tags 1AK4_b_0001_001_00000340 -out:path:pdb {extracted_pdbs_directory}\"\n",
    "print(extract_pdb_lowest_energy_cmd)\n",
    "os.system(extract_pdb_lowest_energy_cmd)\n",
    "\n"
   ]
  },
  {
   "cell_type": "code",
   "execution_count": 9,
   "metadata": {},
   "outputs": [
    {
     "name": "stdout",
     "output_type": "stream",
     "text": [
      "sort -nk2 /home/mhoum/drive1/alphared/testing_ALphaRed/test_local_1_1AK4_b/global_output/scores.fsc | head -n 1\n",
      "SCORE:   -1617.862                0.000            -1807.237              184.959    -59.012     75.562    -64.051      51.918      3.000       3.000 1AK4_b_0001_traj1AK4_b_0001\n",
      "\n",
      "-1617.862\n",
      "SCORE:  -1617.862  -1807.237    184.959       -59.012                   0.000     75.562    -64.051         51.918         3.000          3.000     17.355    164.000    -70.866     15.621     15.419      0.000     71.289      0.605  37443.000 1AK4_b_0001_001_00000339\n",
      "\n",
      "1AK4_b_0001_001_00000339\n"
     ]
    }
   ],
   "source": [
    "sort_scores_script_cmd= f\"sort -nk2 {global_docking_scores_path} | head -n 1\"\n",
    "print(sort_scores_script_cmd)\n",
    "#os.system(sort_scores_script_cmd)\n",
    "\n",
    "# capture the output\n",
    "sort_scores_script_output= os.popen(sort_scores_script_cmd).read()\n",
    "print(sort_scores_script_output)\n",
    "\n",
    "score= sort_scores_script_output.split()[1]\n",
    "print(score)\n",
    "# get the line having the lowest energy from the traj file:\n",
    "line_lowest=\"\"\n",
    "for line in open(global_docking_traj_path):\n",
    "    if line.startswith(\"SCORE:\"):\n",
    "        if line.split()[1] == score:\n",
    "            line_lowest= line\n",
    "            break\n",
    "\n",
    "\n",
    "print(line_lowest)\n",
    "\n",
    "frame_number= line_lowest.split()[-1]\n",
    "print(frame_number)\n",
    "\n",
    "# extract the pdb file of the lowest energy frame\n",
    "\n",
    "extract_pdb_lowest_energy_cmd= f\"{extract_script_path} -in:file:silent {global_docking_traj_path} -in:file:silent_struct_type binary -in:file:tags {frame_number} -out:path:pdb {extracted_pdbs_directory}\"\n",
    "print(extract_pdb_lowest_energy_cmd)\n",
    "#os.system(extract_pdb_lowest_energy_cmd)\n"
   ]
  },
  {
   "cell_type": "code",
   "execution_count": null,
   "metadata": {},
   "outputs": [],
   "source": []
  }
 ],
 "metadata": {
  "kernelspec": {
   "display_name": "pyrosetta_env",
   "language": "python",
   "name": "python3"
  },
  "language_info": {
   "codemirror_mode": {
    "name": "ipython",
    "version": 3
   },
   "file_extension": ".py",
   "mimetype": "text/x-python",
   "name": "python",
   "nbconvert_exporter": "python",
   "pygments_lexer": "ipython3",
   "version": "3.8.19"
  }
 },
 "nbformat": 4,
 "nbformat_minor": 2
}
